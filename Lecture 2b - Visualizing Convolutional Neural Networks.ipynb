{
 "cells": [
  {
   "cell_type": "markdown",
   "metadata": {
    "deletable": true,
    "editable": true
   },
   "source": [
    "# Visualizing Convolutional Neural Networks\n",
    "\n",
    "*Code samples adapted from Francois Chollet:*\n",
    "https://github.com/fchollet/deep-learning-with-python-notebooks/"
   ]
  },
  {
   "cell_type": "markdown",
   "metadata": {
    "deletable": true,
    "editable": true
   },
   "source": [
    "Before we get into the content, here's an example of the Freeze plugin for Jupyter:\n",
    "First, a normal cell that we can read, write, and execute. This is the default setting for a code cell. To set a cell to this setting, click the open lock icon in the toolbar at the top of the notebook."
   ]
  },
  {
   "cell_type": "code",
   "execution_count": 58,
   "metadata": {
    "collapsed": false,
    "deletable": true,
    "editable": true
   },
   "outputs": [
    {
     "name": "stdout",
     "output_type": "stream",
     "text": [
      "This is a normal Jupyter cell\n"
     ]
    }
   ],
   "source": [
    "print(\"This is a normal Jupyter cell\")"
   ]
  },
  {
   "cell_type": "markdown",
   "metadata": {
    "deletable": true,
    "editable": true
   },
   "source": [
    "Next, a read-only cell which we can execute, but whose content we cannot change. Note that we can re-execute the cell and get different output, but we can't change the content of the code. To set a cell to this setting, click the closed lock icon in the toolbar at the top of the notebook."
   ]
  },
  {
   "cell_type": "code",
   "execution_count": 59,
   "metadata": {
    "collapsed": false,
    "deletable": true,
    "editable": true
   },
   "outputs": [
    {
     "name": "stdout",
     "output_type": "stream",
     "text": [
      "[ 0.83683953  0.58283944  0.90146442]\n"
     ]
    }
   ],
   "source": [
    "import numpy as np\n",
    "print(np.random.rand(3))"
   ]
  },
  {
   "cell_type": "markdown",
   "metadata": {
    "deletable": true,
    "editable": true
   },
   "source": [
    "Finally, a cell which cannot be changed or executed. It is \"frozen.\" Notice that attempting to re-run this cell will not change the output of the cell. To set a cell to this setting, click the asterisk icon in the toolbar at the top of the notebook. Noti"
   ]
  },
  {
   "cell_type": "code",
   "execution_count": 41,
   "metadata": {
    "collapsed": false,
    "deletable": false,
    "editable": false,
    "run_control": {
     "frozen": true
    }
   },
   "outputs": [
    {
     "name": "stdout",
     "output_type": "stream",
     "text": [
      "JavaScript is a terrible programming language.\n",
      "[ 0.94994741  0.32457316  0.2626318 ]\n"
     ]
    }
   ],
   "source": [
    "print(\"JavaScript is a terrible programming language.\")\n",
    "print(np.random.rand(3))"
   ]
  },
  {
   "cell_type": "markdown",
   "metadata": {
    "deletable": true,
    "editable": true
   },
   "source": [
    "an important note about Freeze... it seems like if you copy/paste cells, it can cause weird issues with Freeze where the pasted cell is guaranteed to share the lock/unlock/freeze status of the original copied cell. Modifying the state of either cell will modify both of them. It's very odd.\n",
    "\n",
    "## Now on to CNN Visualization...\n",
    "\n",
    "Deep learning models are frequently treated with a \"black-box\" mentality: users simply care about output and don't care to take a look inside to see what's going on. Since convolutional neural networks are, abstractly speaking, \"representations of visual concepts\" (Chollet), they are viable for visualization.\n",
    "\n",
    "There are numerous ways to visualize the underlying structure and state of a CNN. Chollet explores 3 particularly useful and intuitive techniques for visualizing convolutional networks:\n",
    "* Visualizing intermediate outputs / activations\n",
    "* Visualizing convolutional filters\n",
    "* Visualizing heatmaps of class activations in input images (for classification CNNs only)\n",
    "\n",
    "### Visualizing Intermediate Activations\n",
    "\n",
    "### Visualizing Convolutional Filters\n",
    "\n",
    "### Classification Activation Heatmaps"
   ]
  },
  {
   "cell_type": "code",
   "execution_count": null,
   "metadata": {
    "collapsed": true,
    "deletable": true,
    "editable": true
   },
   "outputs": [],
   "source": []
  }
 ],
 "metadata": {
  "anaconda-cloud": {},
  "kernelspec": {
   "display_name": "Python [MachineLearning]",
   "language": "python",
   "name": "Python [MachineLearning]"
  },
  "language_info": {
   "codemirror_mode": {
    "name": "ipython",
    "version": 3
   },
   "file_extension": ".py",
   "mimetype": "text/x-python",
   "name": "python",
   "nbconvert_exporter": "python",
   "pygments_lexer": "ipython3",
   "version": "3.5.2"
  },
  "toc": {
   "nav_menu": {},
   "number_sections": true,
   "sideBar": true,
   "skip_h1_title": false,
   "title_cell": "Table of Contents",
   "title_sidebar": "Contents",
   "toc_cell": false,
   "toc_position": {},
   "toc_section_display": true,
   "toc_window_display": false
  }
 },
 "nbformat": 4,
 "nbformat_minor": 0
}
