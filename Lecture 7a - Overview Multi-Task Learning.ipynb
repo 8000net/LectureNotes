{
 "cells": [
  {
   "cell_type": "markdown",
   "metadata": {},
   "source": [
    "# Multi-Task Learning Overview \n",
    "\n",
    "Multi-Task Learning: An Introduction\n",
    "\n",
    "Bland Altman: https://en.wikipedia.org/wiki/Bland%E2%80%93Altman_plot\n",
    "\n",
    "School Papers:\n",
    "   \n",
    "2015 https://www.ijcai.org/Proceedings/15/Papers/512.pdf\n",
    "   \n",
    "2017 https://arxiv.org/pdf/1703.00977.pdf\n",
    "\n",
    "2017 https://arxiv.org/pdf/1611.03427.pdf\n",
    "\n",
    "data import: https://github.com/tjanez/PyMTL/blob/master/src/PyMTL/data.py"
   ]
  },
  {
   "cell_type": "markdown",
   "metadata": {},
   "source": [
    "In Machine Learning, our traditional goal is to optimize and improve until we reach a specific goal or method. We do this by training a model (or more) and refining it until the performance improvement flatlines. However, while focused on this single task, we tend to leave out other pieces of potentially valuable information that could improve our score. In order to modify this, we present a Multi-Task (Multi-Output) model.\n",
    "\n",
    "<img src=\"images/multi-task-graph.png\" width=\"400\">\n",
    "\n",
    "An advantage to this type of model, is that while some of the hidden layers are shared among the data, they each have their own individual output layers, which greatly reduces the risk of overfitting. This is due to the model having a lot more data to learn from than it normally would.\n",
    "\n",
    "By presenting a model with similar data but different goals, such as predicting scores of different schools around a country, we can make our overall performance better for our original task. Due to the split of data needed to train a multi-task model, one typically needs a very large, complete, and even dataset to train/test with.\n",
    "\n",
    "In order to better demonstrate this model in action, we will first show an example on the previously mentioned school dataset, followed by a more complex ChemBL demonstration."
   ]
  },
  {
   "cell_type": "markdown",
   "metadata": {},
   "source": [
    "# School Data\n",
    "\n",
    "## School Data Understanding\n",
    "\n",
    "We will be using a UK school dataset comprised of 140 different school locations with a total of 15,000 students. Each student has 28 different features, each representing a demographic aspect (gender, age, etc).\n",
    "\n",
    "To give a more detailed explanation of the data, this was taken from the data source itself:\n",
    "\n",
    "Column    Description              Coding\n",
    "\n",
    "     1         Year                     1985=1; 1986=2; 1987=3\n",
    "\n",
    "     2-4       School                   Codes 1-139\n",
    "\n",
    "     5-6       Exam Score               Numeric score\n",
    "\n",
    "     7-8       % FSM                    Percent. students eligible for free\n",
    "                                        school meals\n",
    "\n",
    "     9-10      % VR1 band               Percent. students in school in VR band\n",
    "                                        1\n",
    "\n",
    "     11        Gender                   Male=0; Female=1\n",
    "\n",
    "     12        VR band of student       VR1=2; VR2=3; VR3=1\n",
    "\n",
    "     13-14     Ethnic group of          ESWI=1*; African=2; Arab=3;\n",
    "               student                  Bangladeshi=4; Caribbean=5;\n",
    "                                        Greek=6;Indian=7;Pakistani=8;\n",
    "                                        S.E.Asian=9;Turkish=10; Other=11\n",
    "\n",
    "                                        Mixed=1; Male=2; Female=3\n",
    "     15        School gender\n",
    "                                        Maintained=1; Church of\n",
    "     16        School denomination      England=2; Roman Catholic=3\n",
    "\n",
    "Originally there were only 16 features, but the categorical ones were replace with a binary feature for each possible value. In total, there were 27 plus the bias term. Each school is treated as an individual task and the exam score is the target.\n",
    "\n",
    "In this notebooke will be exploring three different ways to create a classifier and compare their performances.\n",
    "In the next few sections, we will be showing three different methods of completing the task on this data: 1) running each school through its own model, 2) running all the schools together into one model, 3) using a Multi-Task approach and having some of the layers shared by each school, and some individual.\n",
    "\n",
    "## School Data Processing\n",
    "\n",
    "Unfortunately this is an extremely messy dataset so we have quite a bit of preprocessing that we will need to perform."
   ]
  },
  {
   "cell_type": "code",
   "execution_count": 116,
   "metadata": {
    "collapsed": true,
    "deletable": false,
    "editable": false
   },
   "outputs": [],
   "source": [
    "%matplotlib inline\n",
    "import scipy.io\n",
    "from sklearn.datasets.base import Bunch\n",
    "from matplotlib import pyplot as plt\n",
    "import numpy as np\n",
    "from sklearn.model_selection import train_test_split\n",
    "\n",
    "# load the data for each individual school\n",
    "school_indices = [scipy.io.loadmat('data/school_splits/school_%d_indexes.mat' % (x)) for x in range(1, 11)]\n",
    "raw_data = scipy.io.loadmat('data/school_splits/school_b.mat')"
   ]
  },
  {
   "cell_type": "code",
   "execution_count": 117,
   "metadata": {
    "deletable": false,
    "editable": false
   },
   "outputs": [
    {
     "name": "stdout",
     "output_type": "stream",
     "text": [
      "We have an input array of shape: (15362, 28)\n",
      "We have an output array of shape: (15362, 1)\n"
     ]
    }
   ],
   "source": [
    "# changed data to float because yhat will be floats\n",
    "X = np.array(raw_data['x'].T)\n",
    "y = np.array(raw_data['y'])\n",
    "print(\"We have an input array of shape:\", X.shape)\n",
    "print(\"We have an output array of shape:\", y.shape)"
   ]
  },
  {
   "cell_type": "code",
   "execution_count": 118,
   "metadata": {
    "collapsed": true,
    "deletable": false,
    "editable": false
   },
   "outputs": [],
   "source": [
    "# Matlab - arrays are indexed at 1, needs adapting\n",
    "start_index = np.ravel(raw_data[\"task_indexes\"] - 1)"
   ]
  },
  {
   "cell_type": "code",
   "execution_count": 119,
   "metadata": {
    "collapsed": true,
    "deletable": false,
    "editable": false
   },
   "outputs": [],
   "source": [
    "tasks = []\n",
    "for i in range(len(start_index)):\n",
    "    start = start_index[i]\n",
    "    if i == len(start_index) - 1:\n",
    "        end = -1\n",
    "    else:\n",
    "        end = start_index[i + 1]\n",
    "    descr = \"School data: school {}\".format(i + 1)\n",
    "    id = \"School {}\".format(i + 1)\n",
    "    tasks.append(Bunch(data=X[start:end],\n",
    "                       target=y[start:end],\n",
    "                       DESCR=descr,\n",
    "                       ID=id))"
   ]
  },
  {
   "cell_type": "code",
   "execution_count": 31,
   "metadata": {
    "collapsed": true,
    "deletable": false,
    "editable": false
   },
   "outputs": [],
   "source": [
    "import matplotlib.pyplot as plt\n",
    "import numpy as np\n",
    "\n",
    "def bland_altman_plot(data1, data2, *args, **kwargs):\n",
    "    data1     = np.asarray(data1)\n",
    "    data2     = np.asarray(data2)\n",
    "    mean      = np.mean([data1, data2], axis=0)\n",
    "    diff      = data1 - data2                   # Difference between data1 and data2\n",
    "    md        = np.mean(diff)                   # Mean of the difference\n",
    "    sd        = np.std(diff, axis=0)            # Standard deviation of the difference\n",
    "\n",
    "    plt.scatter(mean, diff, *args, **kwargs)\n",
    "    plt.axhline(md,           color='gray', linestyle='--')\n",
    "    plt.axhline(md + 1.96*sd, color='gray', linestyle='--')\n",
    "    plt.axhline(md - 1.96*sd, color='gray', linestyle='--')"
   ]
  },
  {
   "cell_type": "markdown",
   "metadata": {},
   "source": [
    "## Independent School Models\n",
    "\n",
    "First, let's train each school on its own individual model.\n",
    "Each of the 141 models will only have an average of 107.4 data points between both train and test data."
   ]
  },
  {
   "cell_type": "code",
   "execution_count": 9,
   "metadata": {
    "deletable": false,
    "editable": false
   },
   "outputs": [
    {
     "name": "stderr",
     "output_type": "stream",
     "text": [
      "Using TensorFlow backend.\n"
     ]
    }
   ],
   "source": [
    "import keras\n",
    "from keras.models import Sequential\n",
    "from keras.layers import Reshape\n",
    "from keras.layers import Dense, Dropout, Activation, Flatten"
   ]
  },
  {
   "cell_type": "code",
   "execution_count": 10,
   "metadata": {
    "collapsed": true,
    "deletable": false,
    "editable": false
   },
   "outputs": [],
   "source": [
    "models_ind = []\n",
    "test_daters_ind = []\n",
    "for x in tasks:\n",
    "    #X_train = x.data\n",
    "    #y_train = x.target\n",
    "    X_train, X_test, y_train, y_test = train_test_split(x.data, x.target, test_size=0.2, random_state=42)\n",
    "\n",
    "    mlp = Sequential()\n",
    "    mlp.add(Dense(input_dim=X_train.shape[1], units=30, activation='relu'))\n",
    "    mlp.add( Dense(units=15, activation='relu') )\n",
    "    mlp.add(Dense(1))\n",
    "\n",
    "    mlp.compile(loss='mean_squared_error',\n",
    "                optimizer='rmsprop',\n",
    "                metrics=[])\n",
    "    \n",
    "    mlp.fit(X_train, y_train, epochs=20, shuffle=True, verbose=0)\n",
    "    models_ind.append(mlp)\n",
    "    test_daters_ind.append([X_test, y_test])"
   ]
  },
  {
   "cell_type": "code",
   "execution_count": 55,
   "metadata": {
    "deletable": false,
    "editable": false
   },
   "outputs": [
    {
     "data": {
      "text/plain": [
       "<matplotlib.figure.Figure at 0x1a38e9b2b0>"
      ]
     },
     "execution_count": 55,
     "metadata": {},
     "output_type": "execute_result"
    },
    {
     "data": {
      "text/plain": [
       "<matplotlib.figure.Figure at 0x1a38e9b2b0>"
      ]
     },
     "metadata": {},
     "output_type": "display_data"
    }
   ],
   "source": [
    "import seaborn as sns\n",
    "from sklearn.metrics import mean_squared_error, accuracy_score, precision_score, mean_squared_log_error\n",
    "\n",
    "y_ind=[]\n",
    "yhat_ind=[]\n",
    "\n",
    "mses=[]\n",
    "plt.figure(figsize=(15,10))"
   ]
  },
  {
   "cell_type": "code",
   "execution_count": 56,
   "metadata": {
    "deletable": false,
    "editable": false,
    "scrolled": true
   },
   "outputs": [
    {
     "data": {
      "image/png": "[encoded data removed]",
      "text/plain": [
       "<matplotlib.figure.Figure at 0x1a343e2278>"
      ]
     },
     "metadata": {},
     "output_type": "display_data"
    }
   ],
   "source": [
    "for t, mlp in zip(test_daters_ind, models_ind):\n",
    "    X_test, y_test = t\n",
    "\n",
    "    yhat_mlp = mlp.predict(X_test)\n",
    "    yhat_rounded = np.around(yhat_mlp)\n",
    "    \n",
    "    y_test_plot = y_test.ravel()\n",
    "    yhat_mlp_plot = yhat_mlp.ravel()\n",
    "    \n",
    "    y_ind.append(np.mean(y_test_plot))\n",
    "    yhat_ind.append(np.mean(yhat_mlp_plot))\n",
    "\n",
    "    mse = mean_squared_error(y_test, yhat_mlp)\n",
    "    mses.append(mse)\n",
    "    \n",
    "bland_altman_plot(y_ind, yhat_ind)\n",
    "plt.title('Bland-Altman Test Scores')\n",
    "plt.xlabel('Mean Score', fontsize=8)\n",
    "plt.ylabel('Diff Score', fontsize=8)\n",
    "plt.show()"
   ]
  },
  {
   "cell_type": "markdown",
   "metadata": {},
   "source": [
    "This graph has a linear line running through it, while we plot a dot with x being the actual value of the school exam score while y is the predicted value. The closer a dot is to the linear line, the more accurate the score. If the dot is under the linear line, our model low balled the prediction, and vise-versa. "
   ]
  },
  {
   "cell_type": "code",
   "execution_count": 51,
   "metadata": {
    "deletable": false,
    "editable": false
   },
   "outputs": [
    {
     "name": "stdout",
     "output_type": "stream",
     "text": [
      "Average of Mean Squared Error:  198.29652404785156\n"
     ]
    }
   ],
   "source": [
    "avg = float(np.mean(mses))\n",
    "print (\"Average of Mean Squared Error: \", avg)"
   ]
  },
  {
   "cell_type": "markdown",
   "metadata": {},
   "source": [
    "By using Avg Mean Square Error, we can see how close we are to the line of best fit. Based on the graph, we can already tell we are not close."
   ]
  },
  {
   "cell_type": "markdown",
   "metadata": {},
   "source": [
    "## General School Model\n",
    "\n",
    "Let's see if using a single model for all the schools increases our accuracy.  We will have one model with all 15000 training instances."
   ]
  },
  {
   "cell_type": "code",
   "execution_count": 52,
   "metadata": {
    "collapsed": true,
    "deletable": false,
    "editable": false
   },
   "outputs": [],
   "source": [
    "all_data = {\"data\": [], \"target\": [], \"data_test\": [], \"target_test\": []}\n",
    "for bunch in tasks:\n",
    "    x_temp, y_temp = [bunch.data, bunch.target]\n",
    "    X_train, X_test, y_train, y_test = train_test_split(x_temp, y_temp, test_size=0.2, random_state=42)\n",
    "    all_data[\"data\"].append(X_train)\n",
    "    all_data[\"target\"].append(y_train)        \n",
    "    all_data[\"data_test\"].append(X_test)\n",
    "    all_data[\"target_test\"].append(y_test)\n",
    "\n",
    "X_train = np.concatenate(all_data[\"data\"])\n",
    "y_train = np.concatenate(all_data[\"target\"])"
   ]
  },
  {
   "cell_type": "code",
   "execution_count": 53,
   "metadata": {
    "deletable": false,
    "editable": false
   },
   "outputs": [
    {
     "data": {
      "text/plain": [
       "<keras.callbacks.History at 0x1a3900f4a8>"
      ]
     },
     "execution_count": 53,
     "metadata": {},
     "output_type": "execute_result"
    }
   ],
   "source": [
    "generalized_mlp = Sequential()\n",
    "generalized_mlp.add(Dense(input_dim=X_train.shape[1], units=30, activation='relu'))\n",
    "generalized_mlp.add(Dense(units=15, activation='relu'))\n",
    "generalized_mlp.add(Dense(1))\n",
    "\n",
    "generalized_mlp.compile(loss='mean_squared_error',\n",
    "            optimizer='rmsprop',\n",
    "            metrics=[])\n",
    "\n",
    "generalized_mlp.fit(X_train, y_train, epochs=20, shuffle=True, verbose=0)"
   ]
  },
  {
   "cell_type": "code",
   "execution_count": 61,
   "metadata": {
    "deletable": false,
    "editable": false
   },
   "outputs": [
    {
     "data": {
      "text/plain": [
       "<matplotlib.figure.Figure at 0x1a3aead8d0>"
      ]
     },
     "execution_count": 61,
     "metadata": {},
     "output_type": "execute_result"
    },
    {
     "data": {
      "text/plain": [
       "<matplotlib.figure.Figure at 0x1a3aead8d0>"
      ]
     },
     "metadata": {},
     "output_type": "display_data"
    }
   ],
   "source": [
    "y_general=[]\n",
    "yhat_general=[]\n",
    "\n",
    "mses_general=[]\n",
    "plt.figure(figsize=(15,10))"
   ]
  },
  {
   "cell_type": "code",
   "execution_count": 62,
   "metadata": {
    "deletable": false,
    "editable": false
   },
   "outputs": [
    {
     "data": {
      "image/png": "[encoded data removed]",
      "text/plain": [
       "<matplotlib.figure.Figure at 0x1a3aeadeb8>"
      ]
     },
     "metadata": {},
     "output_type": "display_data"
    }
   ],
   "source": [
    "for X_test, y_test in zip(all_data[\"data_test\"], all_data[\"target_test\"]):\n",
    "    yhat_mlp = generalized_mlp.predict(X_test)\n",
    "    yhat_rounded = np.around(yhat_mlp)\n",
    "    \n",
    "    y_test_plot = y_test.ravel()\n",
    "    yhat_mlp_plot = yhat_mlp.ravel()\n",
    "    \n",
    "    y_general.append(np.mean(y_test_plot))\n",
    "    yhat_general.append(np.mean(yhat_mlp_plot))\n",
    "    \n",
    "    mse = mean_squared_error(y_test, yhat_mlp)\n",
    "    mses_general.append(mse)\n",
    "    \n",
    "bland_altman_plot(y_general, yhat_general)\n",
    "plt.title('Bland-Altman Test Scores')\n",
    "plt.xlabel('Mean Score', fontsize=8)\n",
    "plt.ylabel('Diff Score', fontsize=8)\n",
    "plt.show()"
   ]
  },
  {
   "cell_type": "code",
   "execution_count": 63,
   "metadata": {
    "deletable": false,
    "editable": false
   },
   "outputs": [
    {
     "name": "stdout",
     "output_type": "stream",
     "text": [
      "Average of Mean Squared Error:  105.4157485961914\n"
     ]
    }
   ],
   "source": [
    "avg = float(np.mean(mses_general))\n",
    "print (\"Average of Mean Squared Error: \", avg)"
   ]
  },
  {
   "cell_type": "markdown",
   "metadata": {},
   "source": [
    "Our Avg Mean Squared Error is significantly better, clearly showing better results, although we still have an issue of underpredicting at higher test scores."
   ]
  },
  {
   "cell_type": "markdown",
   "metadata": {},
   "source": [
    "## School Multi-Task Model\n",
    "\n",
    "### mean_squared_error"
   ]
  },
  {
   "cell_type": "code",
   "execution_count": 64,
   "metadata": {
    "collapsed": true,
    "deletable": false,
    "editable": false
   },
   "outputs": [],
   "source": [
    "from keras.layers import Input, Dense\n",
    "from keras.models import Model\n",
    "\n",
    "inputs = Input(shape=(X[0].shape[0],))\n",
    "shared_mlp = Dense(64, activation='relu')(inputs)\n",
    "shared_mlp = Dense(64, activation='relu')(shared_mlp)\n",
    "\n",
    "models_mtl = []\n",
    "\n",
    "for _ in range(len(tasks)):\n",
    "    personal_layer = Dense(10, activation='relu')(shared_mlp)\n",
    "    output_layer = Dense(1)(personal_layer)\n",
    "    model = Model(inputs=inputs, outputs=output_layer)\n",
    "    model.compile(optimizer='rmsprop', loss='mean_squared_error')\n",
    "    models_mtl.append(model)"
   ]
  },
  {
   "cell_type": "code",
   "execution_count": 128,
   "metadata": {
    "deletable": false,
    "editable": false
   },
   "outputs": [],
   "source": [
    "all_data = []\n",
    "all_test = []\n",
    "\n",
    "weights = {}\n",
    "for bunch in tasks:\n",
    "    ID = int(bunch.ID.split(\" \")[-1]) - 1\n",
    "    X_train, X_test, y_train, y_test = train_test_split(bunch.data, bunch.target, test_size=0.4, random_state=42)\n",
    "    for row, target in zip(X_train, y_train):\n",
    "        instance = {}\n",
    "        instance[\"data\"] = row.reshape((1, 28))\n",
    "        instance[\"school\"] = ID\n",
    "        instance[\"target\"] = target\n",
    "        all_data.append(instance)\n",
    "        \n",
    "    for row, target in zip(X_test, y_test):\n",
    "        instance = {}\n",
    "        instance[\"data\"] = row.reshape((1, 28))\n",
    "        instance[\"school\"] = ID\n",
    "        instance[\"target\"] = target\n",
    "        all_test.append(instance)"
   ]
  },
  {
   "cell_type": "markdown",
   "metadata": {},
   "source": [
    "After separating the data correctly, shuffle it all back together and run it through 20 epochs on the shared model."
   ]
  },
  {
   "cell_type": "code",
   "execution_count": 129,
   "metadata": {
    "collapsed": true,
    "deletable": false,
    "editable": false
   },
   "outputs": [],
   "source": [
    "import random\n",
    "random.shuffle(all_data)"
   ]
  },
  {
   "cell_type": "code",
   "execution_count": 130,
   "metadata": {
    "collapsed": true,
    "deletable": false,
    "editable": false
   },
   "outputs": [],
   "source": [
    "EPOCHS = 20\n",
    "for _underscore in range(20):\n",
    "    for instance in all_data:\n",
    "        models_mtl[instance[\"school\"]].train_on_batch(instance[\"data\"], instance[\"target\"])"
   ]
  },
  {
   "cell_type": "code",
   "execution_count": 131,
   "metadata": {
    "deletable": false,
    "editable": false
   },
   "outputs": [
    {
     "data": {
      "text/plain": [
       "<matplotlib.figure.Figure at 0x1a37fbc198>"
      ]
     },
     "metadata": {},
     "output_type": "display_data"
    }
   ],
   "source": [
    "y_mtl=[]\n",
    "yhat_mtl=[]\n",
    "\n",
    "plt.figure(figsize=(15,10))\n",
    "mses_mtl=[]"
   ]
  },
  {
   "cell_type": "code",
   "execution_count": 132,
   "metadata": {
    "deletable": false,
    "editable": false
   },
   "outputs": [],
   "source": [
    "school_y = [ [] for x in range(139)]\n",
    "school_yhat = [ [] for x in range(139)]\n",
    "\n",
    "for test in all_test:\n",
    "    X_test = test[\"data\"]\n",
    "    y_test = test[\"target\"]\n",
    "    \n",
    "    mlp = models_mtl[test[\"school\"]]\n",
    "    \n",
    "    yhat_mlp = mlp.predict(X_test)\n",
    "    yhat_rounded = np.around(yhat_mlp)\n",
    "    \n",
    "    y_test_plot = y_test.ravel()\n",
    "    yhat_mlp_plot = yhat_mlp.ravel()\n",
    "\n",
    "    school_y[test[\"school\"]].append(y_test_plot)\n",
    "    school_yhat[test[\"school\"]].append(yhat_mlp_plot)"
   ]
  },
  {
   "cell_type": "code",
   "execution_count": 133,
   "metadata": {
    "deletable": false,
    "editable": false
   },
   "outputs": [
    {
     "data": {
      "image/png": "[encoded data removed]",
      "text/plain": [
       "<matplotlib.figure.Figure at 0x1a4b1bc048>"
      ]
     },
     "metadata": {},
     "output_type": "display_data"
    }
   ],
   "source": [
    "for x, y in zip(school_y, school_yhat):\n",
    "    y_mtl.append(np.mean(x))\n",
    "    yhat_mtl.append(np.mean(y))\n",
    "    \n",
    "    mse = mean_squared_error(x, y)\n",
    "    mses_mtl.append(mse)\n",
    "    \n",
    "bland_altman_plot(y_mtl, yhat_mtl)\n",
    "plt.title('Bland-Altman Test Scores')\n",
    "plt.xlabel('Mean Score', fontsize=8)\n",
    "plt.ylabel('Diff Score', fontsize=8)\n",
    "plt.show()"
   ]
  },
  {
   "cell_type": "code",
   "execution_count": 134,
   "metadata": {
    "deletable": false,
    "editable": false
   },
   "outputs": [
    {
     "name": "stdout",
     "output_type": "stream",
     "text": [
      "Average of Mean Squared Error:  114.21878814697266\n"
     ]
    }
   ],
   "source": [
    "avg = float(np.mean(mses_mtl))\n",
    "print (\"Average of Mean Squared Error: \", avg)"
   ]
  },
  {
   "cell_type": "markdown",
   "metadata": {},
   "source": [
    "### mean_absolute_error"
   ]
  },
  {
   "cell_type": "code",
   "execution_count": 135,
   "metadata": {
    "collapsed": true,
    "deletable": false,
    "editable": false
   },
   "outputs": [],
   "source": [
    "from sklearn.metrics import mean_absolute_error\n",
    "\n",
    "inputs = Input(shape=(X[0].shape[0],))\n",
    "shared_mlp = Dense(64, activation='relu')(inputs)\n",
    "shared_mlp = Dense(64, activation='relu')(shared_mlp)\n",
    "\n",
    "models_mtl = []\n",
    "\n",
    "for _ in range(len(tasks)):\n",
    "    personal_layer = Dense(10, activation='relu')(shared_mlp)\n",
    "    output_layer = Dense(1)(personal_layer)\n",
    "    model = Model(inputs=inputs, outputs=output_layer)\n",
    "    model.compile(optimizer='rmsprop', loss='mean_absolute_error')\n",
    "    models_mtl.append(model)"
   ]
  },
  {
   "cell_type": "code",
   "execution_count": 138,
   "metadata": {
    "collapsed": true,
    "deletable": false,
    "editable": false
   },
   "outputs": [],
   "source": [
    "all_data = []\n",
    "all_test = []\n",
    "\n",
    "weights = {}\n",
    "for bunch in tasks:\n",
    "    ID = int(bunch.ID.split(\" \")[-1]) - 1\n",
    "    X_train, X_test, y_train, y_test = train_test_split(bunch.data, bunch.target, test_size=0.4, random_state=42)\n",
    "    for row, target in zip(X_train, y_train):\n",
    "        instance = {}\n",
    "        instance[\"data\"] = row.reshape((1, 28))\n",
    "        instance[\"school\"] = ID\n",
    "        instance[\"target\"] = target\n",
    "        all_data.append(instance)\n",
    "        \n",
    "    for row, target in zip(X_test, y_test):\n",
    "        instance = {}\n",
    "        instance[\"data\"] = row.reshape((1, 28))\n",
    "        instance[\"school\"] = ID\n",
    "        instance[\"target\"] = target\n",
    "        all_test.append(instance)"
   ]
  },
  {
   "cell_type": "code",
   "execution_count": 139,
   "metadata": {
    "collapsed": true,
    "deletable": false,
    "editable": false
   },
   "outputs": [],
   "source": [
    "import random\n",
    "random.shuffle(all_data)"
   ]
  },
  {
   "cell_type": "code",
   "execution_count": 140,
   "metadata": {
    "deletable": false,
    "editable": false
   },
   "outputs": [],
   "source": [
    "EPOCHS = 20\n",
    "for _underscore in range(20):\n",
    "    for instance in all_data:\n",
    "        models_mtl[instance[\"school\"]].train_on_batch(instance[\"data\"], instance[\"target\"])"
   ]
  },
  {
   "cell_type": "code",
   "execution_count": 141,
   "metadata": {
    "deletable": false,
    "editable": false
   },
   "outputs": [
    {
     "data": {
      "text/plain": [
       "<matplotlib.figure.Figure at 0x1a63a2eb70>"
      ]
     },
     "metadata": {},
     "output_type": "display_data"
    }
   ],
   "source": [
    "y_mtla=[]\n",
    "yhat_mtla=[]\n",
    "\n",
    "plt.figure(figsize=(15,10))\n",
    "maes_mtl=[]"
   ]
  },
  {
   "cell_type": "code",
   "execution_count": 142,
   "metadata": {
    "collapsed": true,
    "deletable": false,
    "editable": false
   },
   "outputs": [],
   "source": [
    "school_ya = [ [] for x in range(139)]\n",
    "school_yhata = [ [] for x in range(139)]\n",
    "\n",
    "for test in all_test:\n",
    "    X_test = test[\"data\"]\n",
    "    y_test = test[\"target\"]\n",
    "    \n",
    "    mlp = models_mtl[test[\"school\"]]\n",
    "    \n",
    "    yhat_mlp = mlp.predict(X_test)\n",
    "    yhat_rounded = np.around(yhat_mlp)\n",
    "    \n",
    "    y_test_plot = y_test.ravel()\n",
    "    yhat_mlp_plot = yhat_mlp.ravel()\n",
    "\n",
    "    school_ya[test[\"school\"]].append(y_test_plot)\n",
    "    school_yhata[test[\"school\"]].append(yhat_mlp_plot)"
   ]
  },
  {
   "cell_type": "code",
   "execution_count": 143,
   "metadata": {
    "deletable": false,
    "editable": false
   },
   "outputs": [
    {
     "data": {
      "image/png": "[encoded data removed]",
      "text/plain": [
       "<matplotlib.figure.Figure at 0x1a63a0bef0>"
      ]
     },
     "metadata": {},
     "output_type": "display_data"
    }
   ],
   "source": [
    "for x, y in zip(school_ya, school_yhata):\n",
    "    y_mtla.append(np.mean(x))\n",
    "    yhat_mtla.append(np.mean(y))\n",
    "    \n",
    "    mae = mean_absolute_error(x, y)\n",
    "    maes_mtl.append(mse)\n",
    "    \n",
    "bland_altman_plot(y_mtla, yhat_mtla)\n",
    "plt.title('Bland-Altman Test Scores')\n",
    "plt.xlabel('Mean Score', fontsize=8)\n",
    "plt.ylabel('Diff Score', fontsize=8)\n",
    "plt.show()"
   ]
  },
  {
   "cell_type": "code",
   "execution_count": 144,
   "metadata": {
    "deletable": false,
    "editable": false
   },
   "outputs": [
    {
     "name": "stdout",
     "output_type": "stream",
     "text": [
      "Average of Mean Absolute Error:  62.09855651855469\n"
     ]
    }
   ],
   "source": [
    "avg = float(np.mean(maes_mtl))\n",
    "print (\"Average of Mean Absolute Error: \", avg)"
   ]
  },
  {
   "cell_type": "markdown",
   "metadata": {},
   "source": [
    "So the results were a bit dissapointing. It turns out the General Model proved best for this problem, but that could be due to a variety of reasons, such as lack of data or a poorly built Multi Task model. However, it should be noted that while teh Avg Mean Squared Error is higher, the graph shows that the problem of overfitting to low test scores is less in the Multi Task Model than the other previous two. So while it did score a higher error value, it did prove better on solving the overfitting problem.\n",
    "\n",
    "Now we will move on to a more complex and bigger dataset for you to try this out."
   ]
  },
  {
   "cell_type": "markdown",
   "metadata": {},
   "source": [
    "# Computer Survey Data\n",
    "\n",
    "### Computer Survey Data Understanding\n",
    "This data set was obtained on pmtkdata project's web site:\n",
    "    https://code.google.com/p/pmtkdata/.\n",
    "It was used by \"Argyriou, Evgeniou, Pontil - Convex multi-task feature learning - ML 2008\" and \"Kumar, Daume III - Learning Task Grouping and Overlap in Multi-Task Learning - ICML 2012\".\n",
    "\n",
    "The data set's properties are:\n",
    "   \n",
    "20 samples (all subjects have the same samples)\n",
    "13 features (describing computer's intrinsic (e.g. CPU speed, RAM) and extrinsic (e.g. Hot line support, Color of unit) features)\n",
    "regression task of predicting subject's likelihood of purchasing a personal computer"
   ]
  },
  {
   "cell_type": "code",
   "execution_count": 145,
   "metadata": {},
   "outputs": [],
   "source": [
    "import os.path\n",
    "from scipy.io import loadmat\n",
    "\n",
    "def load_computer_survey_data():\n",
    "    \"\"\"\n",
    "    Returns\n",
    "    -------\n",
    "    tasks -- list\n",
    "        A list of Bunch objects that correspond to regression tasks, each task\n",
    "        corresponding to one subject.\n",
    "    \"\"\"\n",
    "    \n",
    "    matlab_file = os.path.join(\"data/computer/conjointAnalysisComputerBuyers.mat\")\n",
    "    mat = loadmat(matlab_file)\n",
    "    # feature names are taken from the ComputerSurveyFull.xls file, Sheet named\n",
    "    # Design Matrix\n",
    "    feature_names = [\"cnst\", \"Hot line\", \"RAM\", \"Screen size\", \"CPU speed\",\n",
    "                     \"Hard disk\", \"CD ROM\", \"Cache\", \"Color of unit\",\n",
    "                     \"Availability\", \"Warranty\", \"Software\", \"Guarantee\",\n",
    "                     \"Price\"]\n",
    "    # extract X and combined y data\n",
    "    X = mat[\"designMarix\"].astype(\"float\")\n",
    "    y_combined = mat[\"likeBuy\"].astype(\"float\")\n",
    "    # create a task for each subject\n",
    "    tasks = []\n",
    "    for subject in range(len(y_combined)):\n",
    "        descr = \"Computer Survey data: Subject {}\".format(subject)\n",
    "        id = \"Subject {}\".format(subject)\n",
    "        y = np.array(y_combined[subject], copy=True)\n",
    "        tasks.append(Bunch(data=X,\n",
    "                           target=y,\n",
    "                           feature_names=feature_names,\n",
    "                           DESCR=descr,\n",
    "                           ID=id))\n",
    "    return tasks"
   ]
  },
  {
   "cell_type": "code",
   "execution_count": 146,
   "metadata": {},
   "outputs": [],
   "source": [
    "comp_tasks = load_computer_survey_data()"
   ]
  },
  {
   "cell_type": "code",
   "execution_count": 226,
   "metadata": {},
   "outputs": [
    {
     "name": "stdout",
     "output_type": "stream",
     "text": [
      "20\n",
      "20\n",
      "2\n",
      "20\n",
      "190\n"
     ]
    }
   ],
   "source": [
    "print(comp_tasks[0].data)\n",
    "print(len(comp_tasks[0].target))\n",
    "print(len(comp_tasks[0].data.shape))\n",
    "print(len(comp_tasks[0].target))\n",
    "print(len(comp_tasks))"
   ]
  },
  {
   "cell_type": "markdown",
   "metadata": {},
   "source": [
    "## General Computer Model"
   ]
  },
  {
   "cell_type": "code",
   "execution_count": 205,
   "metadata": {},
   "outputs": [],
   "source": [
    "all_comp_data = {\"data\": [], \"target\": [], \"data_test\": [], \"target_test\": []}\n",
    "for bunch in comp_tasks:\n",
    "    x_temp, y_temp = [bunch.data, bunch.target]\n",
    "    X_train, X_test, y_train, y_test = train_test_split(x_temp, y_temp, test_size=0.2, random_state=42)\n",
    "    all_comp_data[\"data\"].append(X_train)\n",
    "    all_comp_data[\"target\"].append(y_train)        \n",
    "    all_comp_data[\"data_test\"].append(X_test)\n",
    "    all_comp_data[\"target_test\"].append(y_test)\n",
    "\n",
    "X_train_comp = np.concatenate(all_comp_data[\"data\"])\n",
    "y_train_comp = np.concatenate(all_comp_data[\"target\"])"
   ]
  },
  {
   "cell_type": "code",
   "execution_count": 206,
   "metadata": {},
   "outputs": [
    {
     "data": {
      "text/plain": [
       "<keras.callbacks.History at 0x1a5f848518>"
      ]
     },
     "execution_count": 206,
     "metadata": {},
     "output_type": "execute_result"
    }
   ],
   "source": [
    "generalizedc_mlp = Sequential()\n",
    "generalizedc_mlp.add(Dense(input_dim=X_train_comp.shape[1], units=30, activation='relu'))\n",
    "generalizedc_mlp.add(Dense(units=15, activation='relu'))\n",
    "generalizedc_mlp.add(Dense(1))\n",
    "\n",
    "generalizedc_mlp.compile(loss='mean_squared_error',\n",
    "            optimizer='rmsprop',\n",
    "            metrics=[])\n",
    "\n",
    "generalizedc_mlp.fit(X_train_comp, y_train_comp, epochs=20, shuffle=True, verbose=0)"
   ]
  },
  {
   "cell_type": "code",
   "execution_count": 207,
   "metadata": {},
   "outputs": [
    {
     "data": {
      "text/plain": [
       "<matplotlib.figure.Figure at 0x1a5f83ba90>"
      ]
     },
     "execution_count": 207,
     "metadata": {},
     "output_type": "execute_result"
    },
    {
     "data": {
      "text/plain": [
       "<matplotlib.figure.Figure at 0x1a5f83ba90>"
      ]
     },
     "metadata": {},
     "output_type": "display_data"
    }
   ],
   "source": [
    "yc_general=[]\n",
    "yhatc_general=[]\n",
    "\n",
    "msesc_general=[]\n",
    "plt.figure(figsize=(15,10))"
   ]
  },
  {
   "cell_type": "code",
   "execution_count": 208,
   "metadata": {},
   "outputs": [
    {
     "data": {
      "image/png": "[encoded data removed]",
      "text/plain": [
       "<matplotlib.figure.Figure at 0x1a5f83b0b8>"
      ]
     },
     "metadata": {},
     "output_type": "display_data"
    }
   ],
   "source": [
    "for X_test, y_test in zip(all_comp_data[\"data_test\"], all_comp_data[\"target_test\"]):\n",
    "    yhat_mlp = generalizedc_mlp.predict(X_test)\n",
    "    yhat_rounded = np.around(yhat_mlp)\n",
    "    \n",
    "    y_test_plot = y_test.ravel()\n",
    "    yhat_mlp_plot = yhat_mlp.ravel()\n",
    "    \n",
    "    yc_general.append(np.mean(y_test_plot))\n",
    "    yhatc_general.append(np.mean(yhat_mlp_plot))\n",
    "    \n",
    "    mse = mean_squared_error(y_test, yhat_mlp)\n",
    "    msesc_general.append(mse)\n",
    "\n",
    "bland_altman_plot(yc_general, yhatc_general)\n",
    "plt.title('Bland-Altman Test Scores')\n",
    "plt.xlabel('Mean Score', fontsize=8)\n",
    "plt.ylabel('Diff Score', fontsize=8)\n",
    "plt.show()"
   ]
  },
  {
   "cell_type": "code",
   "execution_count": 209,
   "metadata": {},
   "outputs": [
    {
     "name": "stdout",
     "output_type": "stream",
     "text": [
      "Average of Mean Squared Error:  6.110999883226321\n"
     ]
    }
   ],
   "source": [
    "avg = float(np.mean(mses_general))\n",
    "print (\"Average of Mean Squared Error: \", avg)"
   ]
  },
  {
   "cell_type": "markdown",
   "metadata": {},
   "source": [
    "## Computer Survey Multi-Task Model"
   ]
  },
  {
   "cell_type": "code",
   "execution_count": 212,
   "metadata": {},
   "outputs": [],
   "source": [
    "from keras.layers import Input, Dense\n",
    "from keras.models import Model\n",
    "\n",
    "inputs = Input(shape=(X_train_comp.shape[1],))\n",
    "shared_mlp = Dense(64, activation='relu')(inputs)\n",
    "shared_mlp = Dense(64, activation='relu')(shared_mlp)\n",
    "\n",
    "models_mtl = []\n",
    "\n",
    "for _ in range(len(comp_tasks)):\n",
    "    personal_layer = Dense(10, activation='relu')(shared_mlp)\n",
    "    output_layer = Dense(1)(personal_layer)\n",
    "    model = Model(inputs=inputs, outputs=output_layer)\n",
    "    model.compile(optimizer='rmsprop', loss='mean_squared_error')\n",
    "    models_mtl.append(model)"
   ]
  },
  {
   "cell_type": "code",
   "execution_count": 213,
   "metadata": {},
   "outputs": [],
   "source": [
    "all_comp_data = []\n",
    "all_comp_test = []\n",
    "\n",
    "weights = {}\n",
    "for bunch in comp_tasks:\n",
    "    ID = int(bunch.ID.split(\" \")[-1])\n",
    "    X_train, X_test, y_train, y_test = train_test_split(bunch.data, bunch.target, test_size=0.4, random_state=42)\n",
    "    for row, target in zip(X_train, y_train):\n",
    "        instance = {}\n",
    "        instance[\"data\"] = row.reshape((1, 14))\n",
    "        instance[\"subject\"] = ID\n",
    "        instance[\"target\"] = target\n",
    "        all_comp_data.append(instance)\n",
    "        \n",
    "    for row, target in zip(X_test, y_test):\n",
    "        instance = {}\n",
    "        instance[\"data\"] = row.reshape((1, 14))\n",
    "        instance[\"subject\"] = ID\n",
    "        instance[\"target\"] = target\n",
    "        all_comp_test.append(instance)"
   ]
  },
  {
   "cell_type": "code",
   "execution_count": 214,
   "metadata": {
    "collapsed": true
   },
   "outputs": [],
   "source": [
    "import random\n",
    "random.shuffle(all_comp_data)"
   ]
  },
  {
   "cell_type": "code",
   "execution_count": 215,
   "metadata": {},
   "outputs": [
    {
     "ename": "ValueError",
     "evalue": "Error when checking target: expected dense_2319 to have 2 dimensions, but got array with shape ()",
     "output_type": "error",
     "traceback": [
      "\u001b[0;31m---------------------------------------------------------------------------\u001b[0m",
      "\u001b[0;31mValueError\u001b[0m                                Traceback (most recent call last)",
      "\u001b[0;32m<ipython-input-215-c58754bc10f6>\u001b[0m in \u001b[0;36m<module>\u001b[0;34m()\u001b[0m\n\u001b[1;32m      2\u001b[0m \u001b[0;32mfor\u001b[0m \u001b[0m_underscore\u001b[0m \u001b[0;32min\u001b[0m \u001b[0mrange\u001b[0m\u001b[0;34m(\u001b[0m\u001b[0;36m20\u001b[0m\u001b[0;34m)\u001b[0m\u001b[0;34m:\u001b[0m\u001b[0;34m\u001b[0m\u001b[0m\n\u001b[1;32m      3\u001b[0m     \u001b[0;32mfor\u001b[0m \u001b[0minstance\u001b[0m \u001b[0;32min\u001b[0m \u001b[0mall_comp_data\u001b[0m\u001b[0;34m:\u001b[0m\u001b[0;34m\u001b[0m\u001b[0m\n\u001b[0;32m----> 4\u001b[0;31m         \u001b[0mmodels_mtl\u001b[0m\u001b[0;34m[\u001b[0m\u001b[0minstance\u001b[0m\u001b[0;34m[\u001b[0m\u001b[0;34m\"subject\"\u001b[0m\u001b[0;34m]\u001b[0m\u001b[0;34m]\u001b[0m\u001b[0;34m.\u001b[0m\u001b[0mtrain_on_batch\u001b[0m\u001b[0;34m(\u001b[0m\u001b[0minstance\u001b[0m\u001b[0;34m[\u001b[0m\u001b[0;34m\"data\"\u001b[0m\u001b[0;34m]\u001b[0m\u001b[0;34m,\u001b[0m \u001b[0minstance\u001b[0m\u001b[0;34m[\u001b[0m\u001b[0;34m\"target\"\u001b[0m\u001b[0;34m]\u001b[0m\u001b[0;34m)\u001b[0m\u001b[0;34m\u001b[0m\u001b[0m\n\u001b[0m",
      "\u001b[0;32m~/anaconda3/lib/python3.6/site-packages/keras/engine/training.py\u001b[0m in \u001b[0;36mtrain_on_batch\u001b[0;34m(self, x, y, sample_weight, class_weight)\u001b[0m\n\u001b[1;32m   1841\u001b[0m             \u001b[0msample_weight\u001b[0m\u001b[0;34m=\u001b[0m\u001b[0msample_weight\u001b[0m\u001b[0;34m,\u001b[0m\u001b[0;34m\u001b[0m\u001b[0m\n\u001b[1;32m   1842\u001b[0m             \u001b[0mclass_weight\u001b[0m\u001b[0;34m=\u001b[0m\u001b[0mclass_weight\u001b[0m\u001b[0;34m,\u001b[0m\u001b[0;34m\u001b[0m\u001b[0m\n\u001b[0;32m-> 1843\u001b[0;31m             check_batch_axis=True)\n\u001b[0m\u001b[1;32m   1844\u001b[0m         \u001b[0;32mif\u001b[0m \u001b[0mself\u001b[0m\u001b[0;34m.\u001b[0m\u001b[0muses_learning_phase\u001b[0m \u001b[0;32mand\u001b[0m \u001b[0;32mnot\u001b[0m \u001b[0misinstance\u001b[0m\u001b[0;34m(\u001b[0m\u001b[0mK\u001b[0m\u001b[0;34m.\u001b[0m\u001b[0mlearning_phase\u001b[0m\u001b[0;34m(\u001b[0m\u001b[0;34m)\u001b[0m\u001b[0;34m,\u001b[0m \u001b[0mint\u001b[0m\u001b[0;34m)\u001b[0m\u001b[0;34m:\u001b[0m\u001b[0;34m\u001b[0m\u001b[0m\n\u001b[1;32m   1845\u001b[0m             \u001b[0mins\u001b[0m \u001b[0;34m=\u001b[0m \u001b[0mx\u001b[0m \u001b[0;34m+\u001b[0m \u001b[0my\u001b[0m \u001b[0;34m+\u001b[0m \u001b[0msample_weights\u001b[0m \u001b[0;34m+\u001b[0m \u001b[0;34m[\u001b[0m\u001b[0;36m1.\u001b[0m\u001b[0;34m]\u001b[0m\u001b[0;34m\u001b[0m\u001b[0m\n",
      "\u001b[0;32m~/anaconda3/lib/python3.6/site-packages/keras/engine/training.py\u001b[0m in \u001b[0;36m_standardize_user_data\u001b[0;34m(self, x, y, sample_weight, class_weight, check_batch_axis, batch_size)\u001b[0m\n\u001b[1;32m   1428\u001b[0m                                     \u001b[0moutput_shapes\u001b[0m\u001b[0;34m,\u001b[0m\u001b[0;34m\u001b[0m\u001b[0m\n\u001b[1;32m   1429\u001b[0m                                     \u001b[0mcheck_batch_axis\u001b[0m\u001b[0;34m=\u001b[0m\u001b[0;32mFalse\u001b[0m\u001b[0;34m,\u001b[0m\u001b[0;34m\u001b[0m\u001b[0m\n\u001b[0;32m-> 1430\u001b[0;31m                                     exception_prefix='target')\n\u001b[0m\u001b[1;32m   1431\u001b[0m         sample_weights = _standardize_sample_weights(sample_weight,\n\u001b[1;32m   1432\u001b[0m                                                      self._feed_output_names)\n",
      "\u001b[0;32m~/anaconda3/lib/python3.6/site-packages/keras/engine/training.py\u001b[0m in \u001b[0;36m_standardize_input_data\u001b[0;34m(data, names, shapes, check_batch_axis, exception_prefix)\u001b[0m\n\u001b[1;32m    108\u001b[0m                         \u001b[0;34m': expected '\u001b[0m \u001b[0;34m+\u001b[0m \u001b[0mnames\u001b[0m\u001b[0;34m[\u001b[0m\u001b[0mi\u001b[0m\u001b[0;34m]\u001b[0m \u001b[0;34m+\u001b[0m \u001b[0;34m' to have '\u001b[0m \u001b[0;34m+\u001b[0m\u001b[0;34m\u001b[0m\u001b[0m\n\u001b[1;32m    109\u001b[0m                         \u001b[0mstr\u001b[0m\u001b[0;34m(\u001b[0m\u001b[0mlen\u001b[0m\u001b[0;34m(\u001b[0m\u001b[0mshape\u001b[0m\u001b[0;34m)\u001b[0m\u001b[0;34m)\u001b[0m \u001b[0;34m+\u001b[0m \u001b[0;34m' dimensions, but got array '\u001b[0m\u001b[0;34m\u001b[0m\u001b[0m\n\u001b[0;32m--> 110\u001b[0;31m                         'with shape ' + str(data_shape))\n\u001b[0m\u001b[1;32m    111\u001b[0m                 \u001b[0;32mif\u001b[0m \u001b[0;32mnot\u001b[0m \u001b[0mcheck_batch_axis\u001b[0m\u001b[0;34m:\u001b[0m\u001b[0;34m\u001b[0m\u001b[0m\n\u001b[1;32m    112\u001b[0m                     \u001b[0mdata_shape\u001b[0m \u001b[0;34m=\u001b[0m \u001b[0mdata_shape\u001b[0m\u001b[0;34m[\u001b[0m\u001b[0;36m1\u001b[0m\u001b[0;34m:\u001b[0m\u001b[0;34m]\u001b[0m\u001b[0;34m\u001b[0m\u001b[0m\n",
      "\u001b[0;31mValueError\u001b[0m: Error when checking target: expected dense_2319 to have 2 dimensions, but got array with shape ()"
     ]
    }
   ],
   "source": [
    "EPOCHS = 20\n",
    "for _underscore in range(20):\n",
    "    for instance in all_comp_data:\n",
    "        models_mtl[instance[\"subject\"]].train_on_batch(instance[\"data\"], instance[\"target\"])"
   ]
  },
  {
   "cell_type": "code",
   "execution_count": 199,
   "metadata": {},
   "outputs": [
    {
     "data": {
      "text/plain": [
       "<matplotlib.figure.Figure at 0x1a615154a8>"
      ]
     },
     "metadata": {},
     "output_type": "display_data"
    }
   ],
   "source": [
    "yc_mtl=[]\n",
    "yhatc_mtl=[]\n",
    "\n",
    "plt.figure(figsize=(15,10))\n",
    "msesc_mtl=[]"
   ]
  },
  {
   "cell_type": "code",
   "execution_count": 200,
   "metadata": {},
   "outputs": [
    {
     "ename": "ValueError",
     "evalue": "Error when checking : expected input_5 to have shape (3040,) but got array with shape (28,)",
     "output_type": "error",
     "traceback": [
      "\u001b[0;31m---------------------------------------------------------------------------\u001b[0m",
      "\u001b[0;31mValueError\u001b[0m                                Traceback (most recent call last)",
      "\u001b[0;32m<ipython-input-200-f77173af504d>\u001b[0m in \u001b[0;36m<module>\u001b[0;34m()\u001b[0m\n\u001b[1;32m      8\u001b[0m     \u001b[0mmlp\u001b[0m \u001b[0;34m=\u001b[0m \u001b[0mmodels_mtl\u001b[0m\u001b[0;34m[\u001b[0m\u001b[0mtest\u001b[0m\u001b[0;34m[\u001b[0m\u001b[0;34m\"school\"\u001b[0m\u001b[0;34m]\u001b[0m\u001b[0;34m]\u001b[0m\u001b[0;34m\u001b[0m\u001b[0m\n\u001b[1;32m      9\u001b[0m \u001b[0;34m\u001b[0m\u001b[0m\n\u001b[0;32m---> 10\u001b[0;31m     \u001b[0myhat_mlp\u001b[0m \u001b[0;34m=\u001b[0m \u001b[0mmlp\u001b[0m\u001b[0;34m.\u001b[0m\u001b[0mpredict\u001b[0m\u001b[0;34m(\u001b[0m\u001b[0mX_test\u001b[0m\u001b[0;34m)\u001b[0m\u001b[0;34m\u001b[0m\u001b[0m\n\u001b[0m\u001b[1;32m     11\u001b[0m     \u001b[0myhat_rounded\u001b[0m \u001b[0;34m=\u001b[0m \u001b[0mnp\u001b[0m\u001b[0;34m.\u001b[0m\u001b[0maround\u001b[0m\u001b[0;34m(\u001b[0m\u001b[0myhat_mlp\u001b[0m\u001b[0;34m)\u001b[0m\u001b[0;34m\u001b[0m\u001b[0m\n\u001b[1;32m     12\u001b[0m \u001b[0;34m\u001b[0m\u001b[0m\n",
      "\u001b[0;32m~/anaconda3/lib/python3.6/site-packages/keras/engine/training.py\u001b[0m in \u001b[0;36mpredict\u001b[0;34m(self, x, batch_size, verbose, steps)\u001b[0m\n\u001b[1;32m   1780\u001b[0m         x = _standardize_input_data(x, self._feed_input_names,\n\u001b[1;32m   1781\u001b[0m                                     \u001b[0mself\u001b[0m\u001b[0;34m.\u001b[0m\u001b[0m_feed_input_shapes\u001b[0m\u001b[0;34m,\u001b[0m\u001b[0;34m\u001b[0m\u001b[0m\n\u001b[0;32m-> 1782\u001b[0;31m                                     check_batch_axis=False)\n\u001b[0m\u001b[1;32m   1783\u001b[0m         \u001b[0;32mif\u001b[0m \u001b[0mself\u001b[0m\u001b[0;34m.\u001b[0m\u001b[0mstateful\u001b[0m\u001b[0;34m:\u001b[0m\u001b[0;34m\u001b[0m\u001b[0m\n\u001b[1;32m   1784\u001b[0m             \u001b[0;32mif\u001b[0m \u001b[0mx\u001b[0m\u001b[0;34m[\u001b[0m\u001b[0;36m0\u001b[0m\u001b[0;34m]\u001b[0m\u001b[0;34m.\u001b[0m\u001b[0mshape\u001b[0m\u001b[0;34m[\u001b[0m\u001b[0;36m0\u001b[0m\u001b[0;34m]\u001b[0m \u001b[0;34m>\u001b[0m \u001b[0mbatch_size\u001b[0m \u001b[0;32mand\u001b[0m \u001b[0mx\u001b[0m\u001b[0;34m[\u001b[0m\u001b[0;36m0\u001b[0m\u001b[0;34m]\u001b[0m\u001b[0;34m.\u001b[0m\u001b[0mshape\u001b[0m\u001b[0;34m[\u001b[0m\u001b[0;36m0\u001b[0m\u001b[0;34m]\u001b[0m \u001b[0;34m%\u001b[0m \u001b[0mbatch_size\u001b[0m \u001b[0;34m!=\u001b[0m \u001b[0;36m0\u001b[0m\u001b[0;34m:\u001b[0m\u001b[0;34m\u001b[0m\u001b[0m\n",
      "\u001b[0;32m~/anaconda3/lib/python3.6/site-packages/keras/engine/training.py\u001b[0m in \u001b[0;36m_standardize_input_data\u001b[0;34m(data, names, shapes, check_batch_axis, exception_prefix)\u001b[0m\n\u001b[1;32m    118\u001b[0m                             \u001b[0;34m': expected '\u001b[0m \u001b[0;34m+\u001b[0m \u001b[0mnames\u001b[0m\u001b[0;34m[\u001b[0m\u001b[0mi\u001b[0m\u001b[0;34m]\u001b[0m \u001b[0;34m+\u001b[0m \u001b[0;34m' to have shape '\u001b[0m \u001b[0;34m+\u001b[0m\u001b[0;34m\u001b[0m\u001b[0m\n\u001b[1;32m    119\u001b[0m                             \u001b[0mstr\u001b[0m\u001b[0;34m(\u001b[0m\u001b[0mshape\u001b[0m\u001b[0;34m)\u001b[0m \u001b[0;34m+\u001b[0m \u001b[0;34m' but got array with shape '\u001b[0m \u001b[0;34m+\u001b[0m\u001b[0;34m\u001b[0m\u001b[0m\n\u001b[0;32m--> 120\u001b[0;31m                             str(data_shape))\n\u001b[0m\u001b[1;32m    121\u001b[0m     \u001b[0;32mreturn\u001b[0m \u001b[0mdata\u001b[0m\u001b[0;34m\u001b[0m\u001b[0m\n\u001b[1;32m    122\u001b[0m \u001b[0;34m\u001b[0m\u001b[0m\n",
      "\u001b[0;31mValueError\u001b[0m: Error when checking : expected input_5 to have shape (3040,) but got array with shape (28,)"
     ]
    }
   ],
   "source": [
    "school_ya = [ [] for x in range(139)]\n",
    "school_yhata = [ [] for x in range(139)]\n",
    "\n",
    "for test in all_test:\n",
    "    X_test = test[\"data\"]\n",
    "    y_test = test[\"target\"]\n",
    "    \n",
    "    mlp = models_mtl[test[\"school\"]]\n",
    "    \n",
    "    yhat_mlp = mlp.predict(X_test)\n",
    "    yhat_rounded = np.around(yhat_mlp)\n",
    "    \n",
    "    y_test_plot = y_test.ravel()\n",
    "    yhat_mlp_plot = yhat_mlp.ravel()\n",
    "\n",
    "    school_ya[test[\"school\"]].append(y_test_plot)\n",
    "    school_yhata[test[\"school\"]].append(yhat_mlp_plot)"
   ]
  },
  {
   "cell_type": "code",
   "execution_count": null,
   "metadata": {
    "collapsed": true
   },
   "outputs": [],
   "source": []
  },
  {
   "cell_type": "markdown",
   "metadata": {},
   "source": [
    "# ChemBL\n",
    "\n",
    "ChEMBL is an actively maintained and used chemical database of bioactive molecules with drug-like properties. The European Bioinformatics Institute (EBI) is in charge of keeping up to date with it. \n",
    "\n",
    "\n",
    "## ChemBL Data\n",
    "The first part of the code is meant to take in the ChemBL molecules and transform them into a readable data set in order for us to use it with rdkit. \n",
    "\n",
    "TODO: Pray to Pavel that he will help us again."
   ]
  },
  {
   "cell_type": "code",
   "execution_count": null,
   "metadata": {
    "collapsed": true
   },
   "outputs": [],
   "source": []
  },
  {
   "cell_type": "code",
   "execution_count": null,
   "metadata": {
    "collapsed": true,
    "deletable": false,
    "editable": false
   },
   "outputs": [],
   "source": [
    "import pandas, numpy\n",
    "\n",
    "def cleanUp(filename, BA='IC50', UNITS='nM'):\n",
    "   # Read in the file.\n",
    "   d = pandas.read_table(filename, sep=r',(?=(?:[^\"]*\"[^\"]*\")*[^\"]*$)', engine='python')\n",
    "\n",
    "   # Eliminate duplicates.\n",
    "   #d =d.drop_duplicates(['ACTIVITY_ID'])\n",
    "\n",
    "   # Retain only IC50 entries\n",
    "   # (do not mess with the conversion -- like, from logIC50 or pIC50 to IC50 -- as the fraction of\n",
    "   # those entries is negligible).\n",
    "   d = d[d.STANDARD_TYPE==BA]\n",
    "\n",
    "   # Restrict to exclusively human targets\n",
    "   # (this will take care of unwanted 'Starlite ...' entries as well).\n",
    "   #d = d[d.NAME.str.startswith('h')]\n",
    "\n",
    "   # Retain only the nM entries.\n",
    "   d = d[d.STANDARD_UNITS==UNITS]\n",
    "\n",
    "   # Integerize the DOM_ID column (the COMPOUND_ID column type is already 'int').\n",
    "   d.DOC_ID = d.DOC_ID.astype(int)\n",
    "\n",
    "   # Delete idle columns.\n",
    "   #d.drop([Column Name or list],inplace=True,axis=1)\n",
    "\n",
    "   return d\n",
    "\n",
    "def binarizeInteractions(d, MIN=100, MAX=10000):\n",
    "   # Apply the interaction criterion.\n",
    "   ci = d[((d.STANDARD_RELATION=='=') | (d.STANDARD_RELATION=='~') | (d.STANDARD_RELATION=='<') | (d.STANDARD_RELATION=='<=')) & (d.STANDARD_VALUE<=MIN)]\n",
    "   # Apply the non-interaction criterion.\n",
    "   no = d[((d.STANDARD_RELATION=='=') | (d.STANDARD_RELATION=='~') | (d.STANDARD_RELATION=='>') | (d.STANDARD_RELATION=='>>') | (d.STANDARD_RELATION=='>=')) & (d.STANDARD_VALUE>=MAX)]\n",
    "   print(\"Look up how to suppress the warning message below.\")\n",
    "   ci.STANDARD_VALUE = 1\n",
    "   no.STANDARD_VALUE = 0\n",
    "   return pandas.concat([ci, no])\n",
    "\n",
    "d = cleanUp(\"generated_data/molecules.csv\")\n",
    "cino = binarizeInteractions(d)\n",
    "# Remove entries with less than 50 ligands per target.\n",
    "cino = cino.groupby('MOLGREGNO').filter(lambda x: len(x) > 49)\n",
    "\n",
    "dom_ID = numpy.unique( cino.DOC_ID.value_counts().index )\n",
    "com_ID = numpy.unique( cino.RECORD_ID.value_counts().index )\n",
    "print (com_ID.size, dom_ID.size)\n",
    "\n",
    "# Initialize the target-compound matrix.\n",
    "ma = pandas.DataFrame( numpy.nan*numpy.ones((com_ID.size, dom_ID.size)), columns=dom_ID, index=com_ID )\n",
    "# Fill in the target-compound matrix and save it as a file.\n",
    "for i, r in cino.iterrows():\n",
    "   ma[r.DOC_ID][r.RECORD_ID] = r.STANDARD_VALUE\n",
    "ma.to_csv(\"ChemBL/kinda_works.csv\")\n",
    "\n",
    "#d = pandas.read_csv('ChemBL/kinda_works.csv')\n",
    "#d.columns = d.columns.astype(int)"
   ]
  },
  {
   "cell_type": "code",
   "execution_count": null,
   "metadata": {
    "collapsed": true,
    "deletable": false,
    "editable": false
   },
   "outputs": [],
   "source": [
    "from __future__ import print_function\n",
    "\n",
    "from rdkit import Chem\n",
    "from rdkit.Chem import MACCSkeys, AllChem\n",
    "from rdkit.Avalon import pyAvalonTools as fpAvalon\n",
    "from rdkit.Chem.AtomPairs import Pairs, Torsions\n",
    "from rdkit.Chem.Fingerprints import FingerprintMols\n",
    "from rdkit.Chem.ChemicalFeatures import BuildFeatureFactory\n",
    "from rdkit.Chem import rdMolDescriptors\n",
    "import pandas as pd\n",
    "import argparse\n",
    "import textwrap\n",
    "import getopt\n",
    "from argparse import ArgumentParser\n",
    "import time\n",
    "\n",
    "def CalculateFP_mod(smiles, N_BITS=512):\n",
    "    m = Chem.MolFromSmiles(smiles)\n",
    "    if m is None:\n",
    "        raise ValueError('SMILES cannot be converted to a RDKit molecules:', smiles)\n",
    "\n",
    "    return AllChem.GetMorganFingerprintAsBitVect(m, 2, nBits=N_BITS)\n",
    "\n",
    "\n",
    "if __name__ == \"__main__\":\n",
    "    parser = ArgumentParser()\n",
    "\n",
    "    parser.add_argument(\"-i\", \"--input\", dest=\"ligandsWithSmiles\", required=True,help=\"expected file containing 2 cols molregno,smiles\", metavar=\"FILE\")\n",
    "\n",
    "    parser.add_argument(\"-s\", \"--size\", dest=\"numBits\", default=512,help=\"Size of fingerprints\",metavar=\"NumBits\")\n",
    "\n",
    "\n",
    "\n",
    "    args = parser.parse_args()\n",
    "\n",
    "    print ( \"reading from file   %s\" %(args.ligandsWithSmiles))\n",
    "\n",
    "    ipFile = args.ligandsWithSmiles\n",
    "\n",
    "    df = pd.read_csv(ipFile)\n",
    "\n",
    "\n",
    "\n",
    "    numBits = int(args.numBits)\n",
    "    count = 0\n",
    "    errorCompounds = []\n",
    "\n",
    "\n",
    "\n",
    "    current_milli_time = lambda: int(round(time.time() * 1000))\n",
    "\n",
    "    opFile = \"ChemBL/CompoundFingerPrints_%d_%s.csv\"%(numBits,current_milli_time())\n",
    "\n",
    "    print(\"Generating output file with fingerprints %s\"%opFile)\n",
    "    with open(opFile,\"w\") as fpFile :\n",
    "\n",
    "        tempLine = \"\"\n",
    "\n",
    "        tempLine =\"molregno\"\n",
    "        for i in range(0,numBits):\n",
    "            tempLine=tempLine+\",\"+\"Compound_\"+str(i)\n",
    "        fpFile.writelines(tempLine+\"\\n\")\n",
    "\n",
    "        tempLine = \"\"\n",
    "\n",
    "        for row in df.iterrows():\n",
    "            mol= row[1][0]\n",
    "            smilesCode= row[1][1]\n",
    "\n",
    "            try:\n",
    "                count = count + 1\n",
    "                tempLine = str(mol)\n",
    "\n",
    "                temp = CalculateFP_mod(smilesCode)\n",
    "                strFP = temp.ToBitString()\n",
    "\n",
    "                for i in range(0,len(strFP)):\n",
    "                    tempLine=tempLine+\",\"+strFP[i]\n",
    "\n",
    "\n",
    "                fpFile.writelines(tempLine+\"\\n\")\n",
    "\n",
    "                if count%100000 ==0 :\n",
    "                    print(count)\n",
    "            except :\n",
    "                errorCompounds.append(mol)\n",
    "\n",
    "\n",
    "    print(\"Generating error.log for failed compounds\")\n",
    "    with open(\"ChemBL/error.log\",\"w\") as fp :\n",
    "        fp.write(\"Following compounds errored out \\n\")\n",
    "        fp.write(str(errorCompounds))\n"
   ]
  },
  {
   "cell_type": "markdown",
   "metadata": {},
   "source": [
    "## References\n",
    "Image #1: http://ruder.io/multi-task/\n",
    "\n",
    "Source: https://keras.io/getting-started/functional-api-guide/#multi-input-and-multi-output-models"
   ]
  }
 ],
 "metadata": {
  "kernelspec": {
   "display_name": "Python 3",
   "language": "python",
   "name": "python3"
  },
  "language_info": {
   "codemirror_mode": {
    "name": "ipython",
    "version": 3
   },
   "file_extension": ".py",
   "mimetype": "text/x-python",
   "name": "python",
   "nbconvert_exporter": "python",
   "pygments_lexer": "ipython3",
   "version": "3.6.3"
  }
 },
 "nbformat": 4,
 "nbformat_minor": 2
}
